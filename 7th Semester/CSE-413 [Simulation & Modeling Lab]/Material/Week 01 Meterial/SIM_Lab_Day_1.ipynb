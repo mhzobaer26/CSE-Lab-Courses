{
  "nbformat": 4,
  "nbformat_minor": 0,
  "metadata": {
    "colab": {
      "provenance": []
    },
    "kernelspec": {
      "name": "python3",
      "display_name": "Python 3"
    },
    "language_info": {
      "name": "python"
    }
  },
  "cells": [
    {
      "cell_type": "markdown",
      "source": [
        "Simulation and Modeling Lab  \n",
        "**Course Code:** CSE 413  \n",
        "**Academic Level/Term:** 4/1  \n",
        "**Credit Hour:** 3  \n",
        "**Course Teacher:** Audity Ghosh, Lecturer, Department of Computer Science and Engineering, University of Information Technology and Sciences (UITS)  \n",
        "**Date:** 21 July, 2025  \n"
      ],
      "metadata": {
        "id": "38epnR7BGhK_"
      }
    },
    {
      "cell_type": "markdown",
      "source": [
        "### What is Simulation and Modeling?\n",
        "\n",
        "**Simulation and modeling** are essential techniques used to understand, predict, and improve the behavior of complex systems (mathematical models). In **modeling**, you create a simplified version of a system—like a blueprint or map—that represents its key components. In **simulation**, you run experiments with that model to observe how it behaves over time under various conditions.\n",
        "\n",
        "For example, **in a traffic management system**, you might model how cars flow through an intersection, and then simulate what happens during rush hour or in the case of an accident. Instead of testing the system in real life (which could be dangerous or costly), you can test it using **Python** simulations.\n",
        "\n",
        "### Why Should You Take This Simulation and Modeling Course?\n",
        "\n",
        "This course teaches you how to apply simulation and modeling techniques using **Python**—one of the most popular programming tools in academia and industry. You’ll gain practical skills that are useful for:\n",
        "- **Modeling real-world systems** (e.g., network traffic, AI algorithms).\n",
        "- **Running simulations** to test and optimize those models before real-world application.\n",
        "- **Solving engineering problems** in computer science, software development, and data analysis.\n",
        "\n",
        "Whether you’re working on **thesis projects** or **real-world applications**, you will learn how to apply these tools in practical scenarios that will make you stand out in the job market.\n",
        "\n",
        "---\n",
        "\n",
        "### Course Breakdown with Real-Life Examples (Using Python):\n",
        "\n",
        "1. **Introduction to Python: Basic Operations and Functions**  \n",
        "   - **Example**: Suppose you're building a **robotic control system**. You’ll need to use Python to control the robot’s movements, calculate angles, and manage sensor inputs.\n",
        "   - **Python**: Learn basic operations like addition, multiplication, and handling matrices, which are crucial for engineering and simulation tasks in Python.\n",
        "\n",
        "2. **Random Number Generation and Testing**  \n",
        "   - **Example**: In a **gaming app**, you may need to generate random events (like dice rolls or random card shuffling). This session teaches how to create random numbers in Python and test their distribution for fairness.\n",
        "   - **Python**: You will use built-in functions like `numpy.random` to generate random numbers.\n",
        "\n",
        "3. **Hypothesis Testing (One-Sample t-Test)**  \n",
        "   - **Example**: You're working on a **data science project** to determine whether a new marketing strategy has increased customer engagement. You’ll use the **one-sample t-test** to analyze data before and after the campaign.\n",
        "   - **Python**: Perform t-tests using Python’s `scipy.stats.ttest_1samp` to evaluate whether your sample data shows a statistically significant difference.\n",
        "\n",
        "4. **Two-Sample t-Test in Python**  \n",
        "   - **Example**: You want to compare the performance of two **machine learning algorithms** on different datasets. Use the **two-sample t-test** to determine if one algorithm significantly outperforms the other.\n",
        "   - **Python**: You can implement this in Python with `scipy.stats.ttest_ind`.\n",
        "\n",
        "5. **Chi-Square Goodness-of-Fit Test**  \n",
        "   - **Example**: In **data science**, you want to check if the observed distribution of customer purchases matches a predicted distribution. You use the **Chi-Square test** to compare the actual data to your model.\n",
        "   - **Python**: In Python, `scipy.stats.chisquare` will help you test the goodness-of-fit.\n",
        "\n",
        "6. **Performing Chi-Square Test in Python**  \n",
        "   - **Example**: Suppose you're working on **healthcare analytics** to test if the distribution of disease cases follows an expected pattern across different regions. You would perform the Chi-Square test in Python.\n",
        "   - **Python**: Learn how to perform the Chi-Square test in Python using `scipy.stats.chisquare`.\n",
        "\n",
        "7. **One-Sample Kolmogorov-Smirnov Test**  \n",
        "   - **Example**: If you're analyzing **financial data** and want to check if it follows a **normal distribution**, you can use the **Kolmogorov-Smirnov test** in Python.\n",
        "   - **Python**: This test can be done using `scipy.stats.kstest` in Python.\n",
        "\n",
        "8. **Two-Sample Kolmogorov-Smirnov Test**  \n",
        "   - **Example**: You might compare the **performance** of two different **web servers** under similar traffic loads. The two-sample Kolmogorov-Smirnov test can help determine if the performance data of both servers is significantly different.\n",
        "   - **Python**: In Python, use `scipy.stats.ks_2samp`.\n",
        "\n",
        "9. **Testing Normality (Standard Normal Distribution)**  \n",
        "   - **Example**: You’re analyzing **sensor data** from a robotics system and need to verify whether it follows a **normal distribution** to apply certain statistical models.\n",
        "   - **Python**: Use Python’s `scipy.stats.normaltest` to perform normality tests.\n",
        "\n",
        "10. **Project Distribution: Your Task to Submit before Finals, Create Groups of 3-4 people, Generate Ideas, Share Idea Proposal in Proper Format in Week 4**  \n",
        "   - **Example**: If you're building a **distributed system** for a cloud-based application, you’ll need to simulate how data is distributed across multiple servers and ensure even load balancing.\n",
        "   - **Python**: Model the distribution of tasks across servers and analyze the distribution patterns using Python.\n",
        "\n",
        "11. **Implementation of Monte Carlo Simulation**  \n",
        "   - **Example**: In **finance**, you might simulate future stock prices using **Monte Carlo simulations** to assess risks or returns of a portfolio.\n",
        "   - **Python**: Learn how to implement Monte Carlo simulations in Python, using Python’s `numpy.random` for random sampling.\n",
        "\n",
        "12. **Single Server Queuing System**  \n",
        "   - **Example**: Suppose you're designing a **customer support system** where customers wait in a queue for help. You can model this **single-server queuing system** to optimize agent availability.\n",
        "   - **Python**: Simulate and optimize the queuing process using Python libraries like `queueing` or custom scripts.\n",
        "\n",
        "13. **Complex Engineering Problem**  \n",
        "   - **Example**: You’re tasked with designing a **robotic arm** for industrial use. The problem requires multiple simulations, including motor behavior, arm movement, and task efficiency.\n",
        "   - **Python**: Using Python, you will create simulations to optimize the design of the robotic arm and test it under various conditions.\n",
        "\n",
        "---\n",
        "\n",
        "### Why This Course is Valuable:\n",
        "\n",
        "- **Real-World Skills**: By using **Python**, you’ll gain versatile skills that can be applied to a wide range of problems, from software testing to complex engineering simulations.\n",
        "- **Career Benefits**: Mastering **simulation and modeling** will make you a highly sought-after candidate in industries like **data science**, **AI development**, **network design**, and **engineering**.\n",
        "- **Project and Thesis Work**: Whether you're working on a **thesis** or **personal projects**, the course will help you use simulations to validate your ideas and predictions before applying them in real life.\n",
        "\n",
        "In this course, you’ll not only learn to model and simulate complex systems but also gain the confidence to apply these techniques in **Python** to solve real-world problems in computer science and engineering.\n"
      ],
      "metadata": {
        "id": "kundMVmWIUGu"
      }
    },
    {
      "cell_type": "markdown",
      "source": [
        "**What is Simulation and Modeling?**\n",
        "Imagine you're designing a new traffic light system for a busy city. You don’t want to test it directly on real streets because that would disrupt traffic and cause potential accidents. Instead, you use simulation and modeling to create a virtual version of the system and test it digitally before applying it in the real world.\n",
        "\n",
        "Modeling in this case means creating a simplified version of the traffic system. For example, you create a model that represents traffic flow, car speeds, and light changes over time.\n",
        "\n",
        "Simulation is running that model over a set period to see how traffic behaves under different conditions. You can test things like \"What happens if there’s an accident on one road?\" or \"How does the system perform during rush hour?\" without actually stopping traffic.\n",
        "\n",
        "By using simulation and modeling, you can test many different scenarios without risk or cost and optimize the traffic system for the best performance before implementing it in real life."
      ],
      "metadata": {
        "id": "lzx7vijaHybO"
      }
    },
    {
      "cell_type": "markdown",
      "source": [
        "# Necessary Libraries"
      ],
      "metadata": {
        "id": "4bHlVgI2QZdd"
      }
    },
    {
      "cell_type": "code",
      "source": [
        "import numpy as np\n",
        "from sympy import Matrix\n",
        "import matplotlib.pyplot as plt\n",
        "import seaborn as sns\n"
      ],
      "metadata": {
        "id": "sX8pAoTvQcT-"
      },
      "execution_count": null,
      "outputs": []
    },
    {
      "cell_type": "markdown",
      "source": [
        "# Scaler and Built In Functions"
      ],
      "metadata": {
        "id": "rFvqQk5qIqfG"
      }
    },
    {
      "cell_type": "code",
      "execution_count": null,
      "metadata": {
        "colab": {
          "base_uri": "https://localhost:8080/"
        },
        "id": "P_ZrwULjGeta",
        "outputId": "5fb65c5d-7791-461b-8685-5e9f6065a921"
      },
      "outputs": [
        {
          "output_type": "stream",
          "name": "stdout",
          "text": [
            "sin: [ 0.84147098  0.90929743  0.14112001 -0.7568025  -0.95892427]\n",
            "cos: [ 0.54030231 -0.41614684 -0.9899925  -0.65364362  0.28366219]\n",
            "tan: [ 1.55740772 -2.18503986 -0.14254654  1.15782128 -3.38051501]\n",
            "asin: [0.20135792 0.41151685 0.64350111 0.92729522 1.57079633]\n",
            "acos: [1.36943841 1.15927948 0.92729522 0.64350111 0.        ]\n",
            "atan: [0.78539816 1.10714872 1.24904577 1.32581766 1.37340077]\n",
            "exp: [  2.71828183   7.3890561   20.08553692  54.59815003 148.4131591 ]\n",
            "log: [0.         0.69314718 1.09861229 1.38629436 1.60943791]\n",
            "abs: [1 2 3 4 5]\n",
            "sqrt: [1.         1.41421356 1.73205081 2.         2.23606798]\n",
            "rem: [1 0 1 0 1]\n",
            "round: [1 2 3 4 5]\n",
            "floor: [1. 2. 3. 4. 5.]\n",
            "ceil: [1. 2. 3. 4. 5.]\n"
          ]
        }
      ],
      "source": [
        "# Sample scalar and array inputs\n",
        "scalar = 2.5\n",
        "arr = np.array([1, 2, 3, 4, 5])\n",
        "\n",
        "# Trigonometric functions\n",
        "sin_values = np.sin(arr)\n",
        "cos_values = np.cos(arr)\n",
        "tan_values = np.tan(arr)\n",
        "asin_values = np.arcsin(np.clip(arr / np.max(arr), -1, 1))  # Normalized and Clipping for valid range [-1, 1]\n",
        "acos_values = np.arccos(np.clip(arr / np.max(arr), -1, 1))\n",
        "atan_values = np.arctan(arr)\n",
        "\n",
        "# Exponential and logarithm\n",
        "exp_values = np.exp(arr)\n",
        "log_values = np.log(arr)  # Natural logarithm\n",
        "\n",
        "# Absolute value and square root\n",
        "abs_values = np.abs(arr)\n",
        "sqrt_values = np.sqrt(arr)\n",
        "\n",
        "# Remainder when divided by a scalar (e.g., 2)\n",
        "rem_values = np.remainder(arr, 2)\n",
        "\n",
        "# Rounding functions\n",
        "round_values = np.round(arr)\n",
        "floor_values = np.floor(arr)\n",
        "ceil_values = np.ceil(arr)\n",
        "\n",
        "# Display results\n",
        "print(\"sin:\", sin_values)\n",
        "print(\"cos:\", cos_values)\n",
        "print(\"tan:\", tan_values)\n",
        "print(\"asin:\", asin_values)\n",
        "print(\"acos:\", acos_values)\n",
        "print(\"atan:\", atan_values)\n",
        "print(\"exp:\", exp_values)\n",
        "print(\"log:\", log_values)\n",
        "print(\"abs:\", abs_values)\n",
        "print(\"sqrt:\", sqrt_values)\n",
        "print(\"rem:\", rem_values)\n",
        "print(\"round:\", round_values)\n",
        "print(\"floor:\", floor_values)\n",
        "print(\"ceil:\", ceil_values)"
      ]
    },
    {
      "cell_type": "markdown",
      "source": [
        "## Do it For 2X2 matrix"
      ],
      "metadata": {
        "id": "-KyyFPR2JYAe"
      }
    },
    {
      "cell_type": "code",
      "source": [
        "# Creating a 2x2 matrix\n",
        "matrix = np.array([[1, 2], [3, 4]])\n",
        "\n",
        "# Trigonometric functions\n",
        "sin_values = np.sin(matrix)\n",
        "cos_values = np.cos(matrix)\n",
        "tan_values = np.tan(matrix)\n",
        "asin_values = np.arcsin(np.clip(matrix / np.max(matrix), -1, 1))  # Clipping for valid range [-1, 1]\n",
        "acos_values = np.arccos(np.clip(matrix / np.max(matrix), -1, 1))\n",
        "atan_values = np.arctan(matrix)\n",
        "\n",
        "# Exponential and logarithm\n",
        "exp_values = np.exp(matrix)\n",
        "log_values = np.log(matrix)  # Natural logarithm (log base e)\n",
        "\n",
        "# Absolute value and square root\n",
        "abs_values = np.abs(matrix)\n",
        "sqrt_values = np.sqrt(matrix)\n",
        "\n",
        "# Remainder when divided by a scalar (e.g., 2)\n",
        "rem_values = np.remainder(matrix, 2)\n",
        "\n",
        "# Rounding functions\n",
        "round_values = np.round(matrix)\n",
        "floor_values = np.floor(matrix)\n",
        "ceil_values = np.ceil(matrix)\n",
        "\n",
        "# Display results\n",
        "print(\"Matrix:\\n\", matrix)\n",
        "print(\"\\nsin:\\n\", sin_values)\n",
        "print(\"\\ncos:\\n\", cos_values)\n",
        "print(\"\\ntan:\\n\", tan_values)\n",
        "print(\"\\nasine:\\n\", asin_values)\n",
        "print(\"\\nacosine:\\n\", acos_values)\n",
        "print(\"\\natangent:\\n\", atan_values)\n",
        "print(\"\\nexp:\\n\", exp_values)\n",
        "print(\"\\nlog (natural):\\n\", log_values)\n",
        "print(\"\\nabs:\\n\", abs_values)\n",
        "print(\"\\nsqrt:\\n\", sqrt_values)\n",
        "print(\"\\nrem (remainder when divided by 2):\\n\", rem_values)\n",
        "print(\"\\nround:\\n\", round_values)\n",
        "print(\"\\nfloor:\\n\", floor_values)\n",
        "print(\"\\nceil:\\n\", ceil_values)\n"
      ],
      "metadata": {
        "colab": {
          "base_uri": "https://localhost:8080/"
        },
        "id": "PwSqaf64I_vu",
        "outputId": "c4b3b2f2-75be-4b7b-e086-8f23b64d1920"
      },
      "execution_count": null,
      "outputs": [
        {
          "output_type": "stream",
          "name": "stdout",
          "text": [
            "Matrix:\n",
            " [[1 2]\n",
            " [3 4]]\n",
            "\n",
            "sin:\n",
            " [[ 0.84147098  0.90929743]\n",
            " [ 0.14112001 -0.7568025 ]]\n",
            "\n",
            "cos:\n",
            " [[ 0.54030231 -0.41614684]\n",
            " [-0.9899925  -0.65364362]]\n",
            "\n",
            "tan:\n",
            " [[ 1.55740772 -2.18503986]\n",
            " [-0.14254654  1.15782128]]\n",
            "\n",
            "asine:\n",
            " [[0.25268026 0.52359878]\n",
            " [0.84806208 1.57079633]]\n",
            "\n",
            "acosine:\n",
            " [[1.31811607 1.04719755]\n",
            " [0.72273425 0.        ]]\n",
            "\n",
            "atangent:\n",
            " [[0.78539816 1.10714872]\n",
            " [1.24904577 1.32581766]]\n",
            "\n",
            "exp:\n",
            " [[ 2.71828183  7.3890561 ]\n",
            " [20.08553692 54.59815003]]\n",
            "\n",
            "log (natural):\n",
            " [[0.         0.69314718]\n",
            " [1.09861229 1.38629436]]\n",
            "\n",
            "abs:\n",
            " [[1 2]\n",
            " [3 4]]\n",
            "\n",
            "sqrt:\n",
            " [[1.         1.41421356]\n",
            " [1.73205081 2.        ]]\n",
            "\n",
            "rem (remainder when divided by 2):\n",
            " [[1 0]\n",
            " [1 0]]\n",
            "\n",
            "round:\n",
            " [[1 2]\n",
            " [3 4]]\n",
            "\n",
            "floor:\n",
            " [[1. 2.]\n",
            " [3. 4.]]\n",
            "\n",
            "ceil:\n",
            " [[1. 2.]\n",
            " [3. 4.]]\n"
          ]
        }
      ]
    },
    {
      "cell_type": "markdown",
      "source": [
        "### To Students: Do the same for 3*2 matrix"
      ],
      "metadata": {
        "id": "1wfAAqYaJq1G"
      }
    },
    {
      "cell_type": "markdown",
      "source": [
        "# Vector Functions"
      ],
      "metadata": {
        "id": "XKXo4tfaKbTO"
      }
    },
    {
      "cell_type": "code",
      "source": [
        "# Sample vector (1D array)\n",
        "vec = np.array([3, 1, 4, 1, 5, 9, 2, 6])\n",
        "\n",
        "# 1. Maximum value and index of max element\n",
        "max_value = np.max(vec)\n",
        "max_index = np.argmax(vec)  # Index of max element\n",
        "\n",
        "# 2. Minimum value and index of min element\n",
        "min_value = np.min(vec)\n",
        "min_index = np.argmin(vec)  # Index of min element\n",
        "\n",
        "# 3. Length of the vector\n",
        "vec_length = len(vec)  # Equivalent to MATLAB's length()\n",
        "\n",
        "# 4. Sorting in ascending order\n",
        "sorted_vec = np.sort(vec)\n",
        "\n",
        "\n",
        "\n",
        "# 5. Sum of elements\n",
        "sum_values = np.sum(vec)\n",
        "\n",
        "# 6. Product of elements\n",
        "prod_values = np.prod(vec)\n",
        "\n",
        "# 7. Median value\n",
        "median_value = np.median(vec)\n",
        "\n",
        "# 8. Mean value\n",
        "mean_value = np.mean(vec)\n",
        "\n",
        "# 9. Standard deviation\n",
        "std_dev = np.std(vec)\n",
        "\n",
        "# Display results\n",
        "print(\"Max value:\", max_value, \"at index\", max_index)\n",
        "print(\"Min value:\", min_value, \"at index\", min_index)\n",
        "print(\"Length of vector:\", vec_length)\n",
        "print(\"Sorted vector:\", sorted_vec)\n",
        "print(\"Sum of elements:\", sum_values)\n",
        "print(\"Product of elements:\", prod_values)\n",
        "print(\"Median value:\", median_value)\n",
        "print(\"Mean value:\", mean_value)\n",
        "print(\"Standard deviation:\", std_dev)\n"
      ],
      "metadata": {
        "colab": {
          "base_uri": "https://localhost:8080/"
        },
        "collapsed": true,
        "id": "JhbJAOMWJjHX",
        "outputId": "806c5f3b-cbde-42f9-d8e9-79d89d80b325"
      },
      "execution_count": null,
      "outputs": [
        {
          "output_type": "stream",
          "name": "stdout",
          "text": [
            "Max value: 9 at index 5\n",
            "Min value: 1 at index 1\n",
            "Length of vector: 8\n",
            "Sorted vector: [1 1 2 3 4 5 6 9]\n",
            "Sum of elements: 31\n",
            "Product of elements: 6480\n",
            "Median value: 3.5\n",
            "Mean value: 3.875\n",
            "Standard deviation: 2.5708704751503917\n"
          ]
        }
      ]
    },
    {
      "cell_type": "markdown",
      "source": [
        "### To Students: Do the same for 2*3 matrix, what about descending sort within rows or in total matrix? What about using floating numbers?"
      ],
      "metadata": {
        "id": "4e43Ys64K_Nm"
      }
    },
    {
      "cell_type": "code",
      "source": [],
      "metadata": {
        "id": "E81nTJQjgGM8"
      },
      "execution_count": null,
      "outputs": []
    }
  ]
}