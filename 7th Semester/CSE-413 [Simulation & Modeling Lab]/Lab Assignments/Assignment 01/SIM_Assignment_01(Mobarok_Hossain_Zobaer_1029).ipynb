{
  "nbformat": 4,
  "nbformat_minor": 0,
  "metadata": {
    "colab": {
      "provenance": []
    },
    "kernelspec": {
      "name": "python3",
      "display_name": "Python 3"
    },
    "language_info": {
      "name": "python"
    }
  },
  "cells": [
    {
      "cell_type": "markdown",
      "source": [
        "**One-Sample t-Test Assignment**\n",
        "\n",
        "Name:Sadia Akter Tuly\n",
        "\n",
        "ID:0432220005101030\n",
        "\n",
        "Batch:52\n",
        "\n",
        "Semester:Autumn 25\n",
        "\n",
        "Section:7A\n"
      ],
      "metadata": {
        "id": "O-B-GP0C2gef"
      }
    },
    {
      "cell_type": "code",
      "execution_count": 9,
      "metadata": {
        "id": "F03WDQgO2arl"
      },
      "outputs": [],
      "source": [
        "import numpy as np\n",
        "import scipy.stats as stats\n",
        "import matplotlib.pyplot as plt"
      ]
    },
    {
      "cell_type": "markdown",
      "source": [
        "**Step-1. State the Hypothesis**\n",
        "\n",
        "o Null Hypothesis (H₀): The population mean is equal to 65.\n",
        "\n",
        "o Alternative Hypothesis (H₁): The population mean is different from 65.\n",
        "\n",
        "Significance Level: α = 0.05"
      ],
      "metadata": {
        "id": "dphP1z_A3BOH"
      }
    },
    {
      "cell_type": "code",
      "source": [
        "# For reproducibility\n",
        "np.random.seed(42)\n",
        "\n",
        "# Generate dataset based on ID last two digits (k = 30)\n",
        "k = 30\n",
        "exam_scores = 60 + np.random.randint(0, 15, size=12) + (k % 5)\n",
        "print(\"Generated Exam Scores:\", exam_scores)"
      ],
      "metadata": {
        "colab": {
          "base_uri": "https://localhost:8080/"
        },
        "id": "QUPnUTB23uP_",
        "outputId": "01885803-78c8-42be-e3b0-7e3d66316a70"
      },
      "execution_count": 10,
      "outputs": [
        {
          "output_type": "stream",
          "name": "stdout",
          "text": [
            "Generated Exam Scores: [66 63 72 74 70 67 72 64 66 69 62 66]\n"
          ]
        }
      ]
    },
    {
      "cell_type": "markdown",
      "source": [
        "**Step-2. Perform the one-sample t-test**"
      ],
      "metadata": {
        "id": "z8LkiDYe4Ay2"
      }
    },
    {
      "cell_type": "code",
      "source": [
        "\n",
        "# Hypothesized population mean\n",
        "pop_mean = 65\n",
        "\n",
        "# Compute sample statistics\n",
        "sample_mean = np.mean(exam_scores)\n",
        "n = len(exam_scores)\n",
        "df = n - 1\n",
        "\n",
        "# Perform one-sample t-test\n",
        "t_statistic, p_value = stats.ttest_1samp(exam_scores, pop_mean)\n",
        "\n",
        "print(\"Sample Mean:\", round(sample_mean, 2))\n",
        "print(\"Hypothesized Mean:\", pop_mean)\n",
        "print(\"t-statistic:\", round(t_statistic, 4))\n",
        "print(\"Degrees of Freedom:\", df)\n",
        "print(\"p-value:\", round(p_value, 4))\n"
      ],
      "metadata": {
        "colab": {
          "base_uri": "https://localhost:8080/"
        },
        "id": "SMe3mHtB4Ddu",
        "outputId": "824fc250-de52-4287-d703-91cf6ba77fa5"
      },
      "execution_count": 11,
      "outputs": [
        {
          "output_type": "stream",
          "name": "stdout",
          "text": [
            "Sample Mean: 67.58\n",
            "Hypothesized Mean: 65\n",
            "t-statistic: 2.3397\n",
            "Degrees of Freedom: 11\n",
            "p-value: 0.0392\n"
          ]
        }
      ]
    },
    {
      "cell_type": "markdown",
      "source": [
        "**Step-3. Confidence Interval**"
      ],
      "metadata": {
        "id": "UP-vQwiV4ld3"
      }
    },
    {
      "cell_type": "code",
      "source": [
        "# 95% Confidence Interval\n",
        "confidence = 0.95\n",
        "std_err = stats.sem(exam_scores)\n",
        "ci = stats.t.interval(confidence, df, loc=sample_mean, scale=std_err)\n",
        "\n",
        "print(\"95% Confidence Interval:\", (round(ci[0], 2), round(ci[1], 2)))\n",
        "print(\"Standard Error:\", round(std_err, 4))\n"
      ],
      "metadata": {
        "colab": {
          "base_uri": "https://localhost:8080/"
        },
        "id": "JIETeh5S4tg1",
        "outputId": "1140e9cc-d041-4b70-f326-4169e10e5405"
      },
      "execution_count": 12,
      "outputs": [
        {
          "output_type": "stream",
          "name": "stdout",
          "text": [
            "95% Confidence Interval: (np.float64(65.15), np.float64(70.01))\n",
            "Standard Error: 1.1041\n"
          ]
        }
      ]
    },
    {
      "cell_type": "markdown",
      "source": [
        "**Step 4: Decision**"
      ],
      "metadata": {
        "id": "jdSVXtEb49sn"
      }
    },
    {
      "cell_type": "code",
      "source": [
        "alpha = 0.05\n",
        "if p_value < alpha:\n",
        "    decision = \"Reject H0: There is a significant difference between the sample mean and 65.\"\n",
        "else:\n",
        "    decision = \"Fail to Reject H0: No significant difference between the sample mean and 65.\"\n",
        "\n",
        "print(\"Decision:\", decision)"
      ],
      "metadata": {
        "colab": {
          "base_uri": "https://localhost:8080/"
        },
        "id": "UKL5RWJb4_dv",
        "outputId": "1e93f0d7-1eac-4a78-f705-6f5baf07677d"
      },
      "execution_count": 13,
      "outputs": [
        {
          "output_type": "stream",
          "name": "stdout",
          "text": [
            "Decision: Reject H0: There is a significant difference between the sample mean and 65.\n"
          ]
        }
      ]
    },
    {
      "cell_type": "markdown",
      "source": [
        "**Step 5: Visualization**"
      ],
      "metadata": {
        "id": "BTN1TipX5IoO"
      }
    },
    {
      "cell_type": "code",
      "source": [
        "plt.figure(figsize=(8, 5))\n",
        "plt.errorbar(1, sample_mean, yerr=std_err, fmt='o', color='blue', capsize=5, label='Sample Mean ± 1 SE')\n",
        "plt.axhline(y=pop_mean, color='red', linestyle='--', label='Hypothesized Mean (65)')\n",
        "plt.xticks([])\n",
        "plt.ylabel(\"Exam Scores\")\n",
        "plt.title(\"One-Sample t-Test Visualization\")\n",
        "plt.legend()\n",
        "plt.show()\n"
      ],
      "metadata": {
        "colab": {
          "base_uri": "https://localhost:8080/",
          "height": 444
        },
        "id": "vFh6gYtg5Kfu",
        "outputId": "365acf15-a58b-4695-c7a8-4248bc0d5762"
      },
      "execution_count": 15,
      "outputs": [
        {
          "output_type": "display_data",
          "data": {
            "text/plain": [
              "<Figure size 800x500 with 1 Axes>"
            ],
            "image/png": "[encoded data removed]"
          },
          "metadata": {}
        }
      ]
    },
    {
      "cell_type": "markdown",
      "source": [
        "## Interpretation of Results\n",
        "- **Sample Mean:** 67.58\n",
        "- **Hypothesized Mean:** 65\n",
        "- **t-statistic:** 2.3397\n",
        "- **p-value:** 0.0392\n",
        "- **95% CI:** (65.15, 70.01)\n",
        "\n",
        "Since p-value (0.0392) < 0.05, we **Reject H₀**. This means there is a significant difference between the sample mean and the hypothesized mean of 65."
      ],
      "metadata": {
        "id": "Dz_2xROr5s5g"
      }
    }
  ]
}