{
  "nbformat": 4,
  "nbformat_minor": 0,
  "metadata": {
    "colab": {
      "provenance": []
    },
    "kernelspec": {
      "name": "python3",
      "display_name": "Python 3"
    },
    "language_info": {
      "name": "python"
    }
  },
  "cells": [
    {
      "cell_type": "markdown",
      "source": [
        "Part 01"
      ],
      "metadata": {
        "id": "I4n_6D4i4PbQ"
      }
    },
    {
      "cell_type": "code",
      "execution_count": 1,
      "metadata": {
        "colab": {
          "base_uri": "https://localhost:8080/"
        },
        "id": "KlfVouMq3__p",
        "outputId": "f34cf6f3-18e7-4aaa-b22d-36e66410e0d4"
      },
      "outputs": [
        {
          "output_type": "stream",
          "name": "stdout",
          "text": [
            "Estimasted pi for 1000 points is: 7.164\n",
            "Estimasted pi for 5000 points is: 7.0902\n",
            "Estimasted pi for 10000 points is: 7.1001\n",
            "Estimasted pi for 50000 points is: 7.08156\n"
          ]
        }
      ],
      "source": [
        "import numpy as np\n",
        "import random\n",
        "\n",
        "def estimate_pi(num_points):\n",
        "  inside = 0\n",
        "\n",
        "  for _ in range(num_points):\n",
        "    x = random.uniform(0, 3)\n",
        "    y = random.uniform(0, 3)\n",
        "    if x*x + y*y <= 9:\n",
        "      inside += 1\n",
        "  pi = 9 * inside / num_points\n",
        "  sq = pi / (inside / num_points)\n",
        "  print(\"Estimasted pi for\", num_points, \"points is:\", pi)\n",
        "\n",
        "estimate_pi(1000)\n",
        "estimate_pi(5000)\n",
        "estimate_pi(10000)\n",
        "estimate_pi(50000)"
      ]
    },
    {
      "cell_type": "code",
      "source": [
        "import numpy as np\n",
        "import random\n",
        "\n",
        "def estimate_pi(num_points):\n",
        "  inside = 0\n",
        "\n",
        "  for _ in range(num_points):\n",
        "    x = random.uniform(0, 3)\n",
        "    y = random.uniform(0, 3)\n",
        "    if x*x + y*y <= 9:\n",
        "      inside += 1\n",
        "  pi = 9 * inside / num_points\n",
        "  sq = pi / (inside / num_points)\n",
        "  print(\"Estimasted pi for\", num_points, \"points is:\", pi, \"& Square:\", sq)\n",
        "\n",
        "estimate_pi(1000)\n",
        "estimate_pi(5000)\n",
        "estimate_pi(10000)\n",
        "estimate_pi(50000)"
      ],
      "metadata": {
        "id": "gNo50gRU4Lo4"
      },
      "execution_count": null,
      "outputs": []
    },
    {
      "cell_type": "markdown",
      "source": [
        "Part 02"
      ],
      "metadata": {
        "id": "79i6Hf0r4eWw"
      }
    },
    {
      "cell_type": "code",
      "source": [
        "import numpy as np\n",
        "import random\n",
        "\n",
        "def estimate_pi(num_points):\n",
        "  inside = 0\n",
        "\n",
        "  for _ in range(num_points):\n",
        "    x = random.uniform(0, 3)\n",
        "    y = random.uniform(0, 3)\n",
        "    if x*x + y*y <= 9:\n",
        "      inside += 1\n",
        "  pi = 9 * inside / num_points\n",
        "  outside =  num_points - inside\n",
        "\n",
        "\n",
        "  print(\"Estimasted pi for\", num_points, \"points is:\", pi, \"& Outside:\", outside)\n",
        "\n",
        "estimate_pi(1000)\n",
        "estimate_pi(5000)\n",
        "estimate_pi(10000)\n",
        "estimate_pi(50000)"
      ],
      "metadata": {
        "colab": {
          "base_uri": "https://localhost:8080/"
        },
        "id": "MK6Ce1kR4fqY",
        "outputId": "b90530be-c623-4a8b-8500-b4e1bd8eeaa1"
      },
      "execution_count": 2,
      "outputs": [
        {
          "output_type": "stream",
          "name": "stdout",
          "text": [
            "Estimasted pi for 1000 points is: 6.912 & Outside: 232\n",
            "Estimasted pi for 5000 points is: 6.9696 & Outside: 1128\n",
            "Estimasted pi for 10000 points is: 7.0704 & Outside: 2144\n",
            "Estimasted pi for 50000 points is: 7.05024 & Outside: 10832\n"
          ]
        }
      ]
    },
    {
      "cell_type": "code",
      "source": [
        "def estimate_pi(num_points):\n",
        "  inside = 0\n",
        "  half_points = num_points // 2\n",
        "\n",
        "  for _ in range(half_points):\n",
        "    x = random.uniform(0, 3)\n",
        "    y = random.uniform(0, 3)\n",
        "    if x*x + y*y <= 9:\n",
        "      inside += 1\n",
        "\n",
        "  for _ in range(half_points):\n",
        "    x = np.random.rand() * 3\n",
        "    y = np.random.rand() * 3\n",
        "    if x*x + y*y <= 9:\n",
        "      inside += 1\n",
        "\n",
        "  outside =  num_points - inside\n",
        "  print(\"Total POints:\", num_points, \"Inside:\", inside, \"Outside:\", outside)\n",
        "\n",
        "\n",
        "estimate_pi(1000)"
      ],
      "metadata": {
        "colab": {
          "base_uri": "https://localhost:8080/"
        },
        "id": "S2yuX2f-4qow",
        "outputId": "f7b40917-2176-4b49-c35a-64fb2566e8e1"
      },
      "execution_count": 3,
      "outputs": [
        {
          "output_type": "stream",
          "name": "stdout",
          "text": [
            "Total POints: 1000 Inside: 779 Outside: 221\n"
          ]
        }
      ]
    },
    {
      "cell_type": "markdown",
      "source": [
        "Part 03"
      ],
      "metadata": {
        "id": "r7j0aVul4tEH"
      }
    },
    {
      "cell_type": "code",
      "source": [
        "import random\n",
        "print(\"Range Used \\t Total Points \\t Points Inside \\t Estimated Pi \\t Error from math.pi\")\n",
        "def estimate_pi(num_points):\n",
        "  inside = 0\n",
        "\n",
        "  for _ in range(num_points):\n",
        "    x = random.uniform(0, 2)\n",
        "    y = random.uniform(0, 2)\n",
        "    if x*x + y*y <= 4:\n",
        "      inside += 1\n",
        "\n",
        "  pi = 4 * inside / num_points\n",
        "  print(\"0 - 2 \\t\\t\", num_points, \"\\t\\t\", inside, \"\\t\\t\", pi, \"\\t\", abs(pi - 3.1416))\n",
        "\n",
        "estimate_pi(10000)\n",
        "estimate_pi(15000)\n",
        "estimate_pi(20000)\n",
        "estimate_pi(25000)\n",
        "estimate_pi(50000)"
      ],
      "metadata": {
        "colab": {
          "base_uri": "https://localhost:8080/"
        },
        "id": "q0G8x2N24uwX",
        "outputId": "6ad302cd-8bd3-4310-a059-f3733d1d231e"
      },
      "execution_count": 4,
      "outputs": [
        {
          "output_type": "stream",
          "name": "stdout",
          "text": [
            "Range Used \t Total Points \t Points Inside \t Estimated Pi \t Error from math.pi\n",
            "0 - 2 \t\t 10000 \t\t 7885 \t\t 3.154 \t 0.012399999999999967\n",
            "0 - 2 \t\t 15000 \t\t 11877 \t\t 3.1672 \t 0.025599999999999845\n",
            "0 - 2 \t\t 20000 \t\t 15848 \t\t 3.1696 \t 0.028000000000000025\n",
            "0 - 2 \t\t 25000 \t\t 19683 \t\t 3.14928 \t 0.007680000000000131\n",
            "0 - 2 \t\t 50000 \t\t 39309 \t\t 3.14472 \t 0.0031200000000000117\n"
          ]
        }
      ]
    }
  ]
}