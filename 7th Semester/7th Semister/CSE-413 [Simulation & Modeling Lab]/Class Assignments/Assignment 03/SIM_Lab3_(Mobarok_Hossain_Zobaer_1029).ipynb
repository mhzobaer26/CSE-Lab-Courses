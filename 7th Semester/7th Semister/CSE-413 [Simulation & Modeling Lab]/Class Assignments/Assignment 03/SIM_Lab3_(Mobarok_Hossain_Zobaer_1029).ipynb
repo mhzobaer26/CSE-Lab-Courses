{
  "nbformat": 4,
  "nbformat_minor": 0,
  "metadata": {
    "colab": {
      "provenance": []
    },
    "kernelspec": {
      "name": "python3",
      "display_name": "Python 3"
    },
    "language_info": {
      "name": "python"
    }
  },
  "cells": [
    {
      "cell_type": "code",
      "execution_count": null,
      "metadata": {
        "id": "Elh_x3qrgC4p"
      },
      "outputs": [],
      "source": [
        "import numpy as np\n",
        "from sympy import Matrix\n",
        "import matplotlib.pyplot as plt   #graph\n",
        "import seaborn as sns             #color"
      ]
    },
    {
      "cell_type": "code",
      "source": [
        "#sample data\n",
        "# data = [1,2,2,3,4,4,4,5,6]"
      ],
      "metadata": {
        "id": "kyb8NDuThksX"
      },
      "execution_count": null,
      "outputs": []
    },
    {
      "cell_type": "markdown",
      "source": [
        "Histogram of Uniform Distribution with Random Numbers"
      ],
      "metadata": {
        "id": "9AjxG03Ylt7c"
      }
    },
    {
      "cell_type": "code",
      "source": [
        "#Create histogram with 3 bins\n",
        "# plt.hist(data, bins=3, edgecolor='black', color='blue', alpha=0.34)"
      ],
      "metadata": {
        "id": "dIyZKhI_h3bm"
      },
      "execution_count": null,
      "outputs": []
    },
    {
      "cell_type": "markdown",
      "source": [
        "Student Class Work\n",
        "1. Unifrom Random Numbers"
      ],
      "metadata": {
        "id": "krXJ_kMqmCFM"
      }
    },
    {
      "cell_type": "markdown",
      "source": [
        "Use np.random.rand() to generate a 1×10 vector of random numbers between 0and1.\n",
        "\n",
        "Plot a histogram of the 1×10 vector to visualize the distribution."
      ],
      "metadata": {
        "id": "aqomaL0gvh45"
      }
    },
    {
      "cell_type": "code",
      "source": [
        "data = np.random.rand(10)\n",
        "plt.hist(data, bins=3, edgecolor='black')"
      ],
      "metadata": {
        "colab": {
          "base_uri": "https://localhost:8080/",
          "height": 482
        },
        "id": "DEBt11DGjPs9",
        "outputId": "25557e24-b695-43be-b51b-91db9ea4dd54"
      },
      "execution_count": null,
      "outputs": [
        {
          "output_type": "execute_result",
          "data": {
            "text/plain": [
              "(array([2., 3., 5.]),\n",
              " array([0.18172111, 0.43965148, 0.69758185, 0.95551222]),\n",
              " <BarContainer object of 3 artists>)"
            ]
          },
          "metadata": {},
          "execution_count": 14
        },
        {
          "output_type": "display_data",
          "data": {
            "text/plain": [
              "<Figure size 640x480 with 1 Axes>"
            ],
            "image/png": "[encoded data removed]"
          },
          "metadata": {}
        }
      ]
    },
    {
      "cell_type": "markdown",
      "source": [
        "2. Normally Distributed Random Numbers"
      ],
      "metadata": {
        "id": "mHTmsZozr8aj"
      }
    },
    {
      "cell_type": "markdown",
      "source": [
        "Generate 500 random numbers from a standard normal distribution (mean=0, standard deviation=1) using np.random.normal.\n",
        "Plot a histogram of these numbers to visualize the normal distribution."
      ],
      "metadata": {
        "id": "Ndrltwegvr3x"
      }
    },
    {
      "cell_type": "code",
      "source": [
        "random_number = np.random.normal(100,10,10000)\n",
        "plt.hist(random_number, bins=40, edgecolor='black')"
      ],
      "metadata": {
        "colab": {
          "base_uri": "https://localhost:8080/",
          "height": 708
        },
        "id": "-c0zjM9-sA0C",
        "outputId": "97292be1-6be1-4b50-d939-a125d32a5f77"
      },
      "execution_count": null,
      "outputs": [
        {
          "output_type": "execute_result",
          "data": {
            "text/plain": [
              "(array([  5.,   7.,   7.,  17.,  31.,  47.,  73.,  94., 161., 190., 262.,\n",
              "        330., 454., 512., 602., 718., 745., 726., 778., 767., 667., 613.,\n",
              "        559., 423., 355., 254., 195., 146.,  93.,  77.,  40.,  23.,  11.,\n",
              "          6.,   3.,   3.,   3.,   2.,   0.,   1.]),\n",
              " array([ 65.06566461,  67.00897797,  68.95229132,  70.89560467,\n",
              "         72.83891803,  74.78223138,  76.72554473,  78.66885809,\n",
              "         80.61217144,  82.55548479,  84.49879815,  86.4421115 ,\n",
              "         88.38542485,  90.32873821,  92.27205156,  94.21536491,\n",
              "         96.15867827,  98.10199162, 100.04530497, 101.98861833,\n",
              "        103.93193168, 105.87524503, 107.81855839, 109.76187174,\n",
              "        111.7051851 , 113.64849845, 115.5918118 , 117.53512516,\n",
              "        119.47843851, 121.42175186, 123.36506522, 125.30837857,\n",
              "        127.25169192, 129.19500528, 131.13831863, 133.08163198,\n",
              "        135.02494534, 136.96825869, 138.91157204, 140.8548854 ,\n",
              "        142.79819875]),\n",
              " <BarContainer object of 40 artists>)"
            ]
          },
          "metadata": {},
          "execution_count": 42
        },
        {
          "output_type": "display_data",
          "data": {
            "text/plain": [
              "<Figure size 640x480 with 1 Axes>"
            ],
            "image/png": "[encoded data removed]"
          },
          "metadata": {}
        }
      ]
    },
    {
      "cell_type": "markdown",
      "source": [
        "Student Lab Assignment 2"
      ],
      "metadata": {
        "id": "gn__B4cwvVOq"
      }
    },
    {
      "cell_type": "markdown",
      "source": [
        "Use numpy to create a 3×3 matrix of random integers between 1 and 50.\n",
        "Run the code twice:\n",
        "With a fixed seed (np.random.seed(10)) to ensure reproducibility.\n",
        "Without setting a seed, allowing random values to change each time.\n",
        "Observe and explain the differences in outputs."
      ],
      "metadata": {
        "id": "A2QgovDKvdL5"
      }
    },
    {
      "cell_type": "code",
      "source": [
        "# With Seed\n",
        "np.random.seed(10)  # Setting seed to 10\n",
        "seeded_matrix = np.random.randint(1, 51, (3, 3))\n",
        "print(\"Seeded Random Matrix:\\n\", seeded_matrix)\n",
        "\n",
        "# Without Seed\n",
        "np.random.seed(None)  # No seed, generates different values each time\n",
        "non_seeded_matrix = np.random.randint(1, 51, (3, 3))\n",
        "print(\"\\nNon-Seeded Random Matrix:\\n\", non_seeded_matrix)\n"
      ],
      "metadata": {
        "colab": {
          "base_uri": "https://localhost:8080/"
        },
        "id": "Wmy_59OhvWWS",
        "outputId": "772ee38a-8b08-429a-ad2e-5e363762d8db"
      },
      "execution_count": null,
      "outputs": [
        {
          "output_type": "stream",
          "name": "stdout",
          "text": [
            "Seeded Random Matrix:\n",
            " [[10 37 16]\n",
            " [ 1 50 29]\n",
            " [26 30 49]]\n",
            "\n",
            "Non-Seeded Random Matrix:\n",
            " [[18 18 24]\n",
            " [12 50 44]\n",
            " [15 35 44]]\n"
          ]
        }
      ]
    }
  ]
}