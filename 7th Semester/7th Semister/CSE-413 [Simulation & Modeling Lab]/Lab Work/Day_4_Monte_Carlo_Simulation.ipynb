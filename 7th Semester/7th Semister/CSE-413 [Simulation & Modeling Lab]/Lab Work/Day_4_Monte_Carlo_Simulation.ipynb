{
  "nbformat": 4,
  "nbformat_minor": 0,
  "metadata": {
    "colab": {
      "provenance": []
    },
    "kernelspec": {
      "name": "python3",
      "display_name": "Python 3"
    },
    "language_info": {
      "name": "python"
    }
  },
  "cells": [
    {
      "cell_type": "markdown",
      "source": [
        "1. Monte Carlo Simulation\n",
        "Pi = 4 * Dart inside circle / Dart in Square"
      ],
      "metadata": {
        "id": "osZGjxb_nyKj"
      }
    },
    {
      "cell_type": "code",
      "execution_count": 39,
      "metadata": {
        "colab": {
          "base_uri": "https://localhost:8080/"
        },
        "id": "hFSONabTnbvy",
        "outputId": "fd7c3a54-3f02-4eb4-987b-d7510dbc9603"
      },
      "outputs": [
        {
          "output_type": "stream",
          "name": "stdout",
          "text": [
            "Range Used \t Total Points \t Points Inside \t Estimated Pi \t Error from math.pi\n",
            "0 - 2 \t\t 10000 \t\t 7871 \t\t 3.1484 \t 0.006800000000000139\n",
            "0 - 2 \t\t 15000 \t\t 11789 \t\t 3.1437333333333335 \t 0.0021333333333335425\n",
            "0 - 2 \t\t 20000 \t\t 15687 \t\t 3.1374 \t 0.0041999999999999815\n",
            "0 - 2 \t\t 25000 \t\t 19709 \t\t 3.15344 \t 0.01183999999999985\n",
            "0 - 2 \t\t 50000 \t\t 39049 \t\t 3.12392 \t 0.017679999999999918\n"
          ]
        }
      ],
      "source": [
        "import numpy as np\n",
        "import random\n",
        "\n",
        "# def estimate_pi(num_points):\n",
        "#   inside = 0\n",
        "\n",
        "#   for _ in range(num_points):\n",
        "\n",
        "    # x = random.random()\n",
        "    # y = random.random()\n",
        "    # if x*x + y*y <= 9:\n",
        "          # inside += 1\n",
        "  # pi = 4 * inside / num_points\n",
        "  # print(\"Estimasted pi for\", num_points, \"points is:\", pi)\n",
        "\n",
        "# estimate_pi(1000)\n",
        "# estimate_pi(5000)\n",
        "# estimate_pi(10000)\n",
        "# estimate_pi(50000)\n",
        "\n",
        "#part 01 (1)\n",
        "#     x = random.uniform(0, 3)\n",
        "#     y = random.uniform(0, 3)\n",
        "#     if x*x + y*y <= 9:\n",
        "#       inside += 1\n",
        "#   pi = 9 * inside / num_points\n",
        "#   sq = pi / (inside / num_points)\n",
        "#   print(\"Estimasted pi for\", num_points, \"points is:\", pi)\n",
        "\n",
        "# estimate_pi(1000)\n",
        "# estimate_pi(5000)\n",
        "# estimate_pi(10000)\n",
        "# estimate_pi(50000)\n",
        "\n",
        "\n",
        "#part 01 (2)\n",
        "#     x = random.uniform(0, 3)\n",
        "#     y = random.uniform(0, 3)\n",
        "#     if x*x + y*y <= 9:\n",
        "#       inside += 1\n",
        "#   pi = 9 * inside / num_points\n",
        "#   sq = pi / (inside / num_points)\n",
        "#   print(\"Estimasted pi for\", num_points, \"points is:\", pi, \"& Square:\", sq)\n",
        "\n",
        "# estimate_pi(1000)\n",
        "# estimate_pi(5000)\n",
        "# estimate_pi(10000)\n",
        "# estimate_pi(50000)\n",
        "\n",
        "\n",
        "#part 02 (1)\n",
        "#     x = random.uniform(0, 3)\n",
        "#     y = random.uniform(0, 3)\n",
        "#     if x*x + y*y <= 9:\n",
        "#       inside += 1\n",
        "#   pi = 9 * inside / num_points\n",
        "#   outside =  num_points - inside\n",
        "\n",
        "\n",
        "#   print(\"Estimasted pi for\", num_points, \"points is:\", pi, \"& Outside:\", outside)\n",
        "\n",
        "# estimate_pi(1000)\n",
        "# estimate_pi(5000)\n",
        "# estimate_pi(10000)\n",
        "# estimate_pi(50000)\n",
        "\n",
        "#part 02 (2,3)\n",
        "# def estimate_pi(num_points):\n",
        "#   inside = 0\n",
        "#   half_points = num_points // 2\n",
        "\n",
        "#   for _ in range(half_points):\n",
        "#     x = random.uniform(0, 3)\n",
        "#     y = random.uniform(0, 3)\n",
        "#     if x*x + y*y <= 9:\n",
        "#       inside += 1\n",
        "\n",
        "#   for _ in range(half_points):\n",
        "#     x = np.random.rand() * 3\n",
        "#     y = np.random.rand() * 3\n",
        "#     if x*x + y*y <= 9:\n",
        "#       inside += 1\n",
        "\n",
        "#   outside =  num_points - inside\n",
        "#   print(\"Total POints:\", num_points, \"Inside:\", inside, \"Outside:\", outside)\n",
        "\n",
        "\n",
        "# estimate_pi(1000)\n",
        "\n",
        "#part 03 (1,2,3)\n",
        "import random\n",
        "print(\"Range Used \\t Total Points \\t Points Inside \\t Estimated Pi \\t Error from math.pi\")\n",
        "def estimate_pi(num_points):\n",
        "  inside = 0\n",
        "\n",
        "  for _ in range(num_points):\n",
        "    x = random.uniform(0, 2)\n",
        "    y = random.uniform(0, 2)\n",
        "    if x*x + y*y <= 4:\n",
        "      inside += 1\n",
        "\n",
        "  pi = 4 * inside / num_points\n",
        "  print(\"0 - 2 \\t\\t\", num_points, \"\\t\\t\", inside, \"\\t\\t\", pi, \"\\t\", abs(pi - 3.1416))\n",
        "\n",
        "estimate_pi(10000)\n",
        "estimate_pi(15000)\n",
        "estimate_pi(20000)\n",
        "estimate_pi(25000)\n",
        "estimate_pi(50000)"
      ]
    },
    {
      "cell_type": "markdown",
      "source": [],
      "metadata": {
        "id": "91ucdft3oQ77"
      }
    },
    {
      "cell_type": "code",
      "source": [],
      "metadata": {
        "id": "G-U7mHUto2_D"
      },
      "execution_count": 18,
      "outputs": []
    }
  ]
}